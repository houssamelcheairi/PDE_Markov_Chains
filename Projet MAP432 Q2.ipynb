{
 "cells": [
  {
   "cell_type": "markdown",
   "metadata": {},
   "source": [
    "# Partie 2"
   ]
  },
  {
   "cell_type": "markdown",
   "metadata": {},
   "source": [
    "### Définition de $\\phi$"
   ]
  },
  {
   "cell_type": "code",
   "execution_count": 1,
   "metadata": {},
   "outputs": [],
   "source": [
    "import random\n",
    "import numpy as np\n",
    "import matplotlib.pyplot as plt\n",
    "\n",
    "def phi(x, y, L):\n",
    "    if x==0 or x==L:\n",
    "        return 1\n",
    "    if y==0 or y==L:\n",
    "        return 0\n"
   ]
  },
  {
   "cell_type": "markdown",
   "metadata": {},
   "source": [
    "### Simulation de la chaîne de Markov"
   ]
  },
  {
   "cell_type": "code",
   "execution_count": 2,
   "metadata": {},
   "outputs": [],
   "source": [
    "def markov_edge(x,y,L,alpha):\n",
    "    beta = (1-alpha)/4\n",
    "    while (x!=0 and x!=L and y!=0 and y!=L):\n",
    "        alea = random.random()\n",
    "        if 0 <=alea <=alpha:\n",
    "            return 0\n",
    "        else:\n",
    "            if alpha <=alea <= alpha + beta:\n",
    "                x = x-1\n",
    "            if alpha +beta <= alea <= alpha +2*beta:\n",
    "                x = x+1\n",
    "            if alpha +2*beta <= alea <= alpha +3*beta:\n",
    "                y= y-1\n",
    "            if alpha +3*beta <= alea <= alpha +4*beta:\n",
    "                y= y+1\n",
    "    return phi(x,y,L)"
   ]
  },
  {
   "cell_type": "markdown",
   "metadata": {},
   "source": [
    "### Calcul de $u(x,y)$"
   ]
  },
  {
   "cell_type": "code",
   "execution_count": 3,
   "metadata": {},
   "outputs": [],
   "source": [
    "def monte_carlo(x,y,L,alpha,N):\n",
    "    s = 0\n",
    "    for n in range(N):\n",
    "        s=s + markov_edge(x,y,L,alpha)\n",
    "    return s/N"
   ]
  },
  {
   "cell_type": "markdown",
   "metadata": {},
   "source": [
    "### Approximation de $f$"
   ]
  },
  {
   "cell_type": "code",
   "execution_count": 4,
   "metadata": {},
   "outputs": [],
   "source": [
    "def approximate(L,alpha,N):\n",
    "    expected_values =np.zeros((L,L))\n",
    "    for i in range(L):\n",
    "        for j in range(L):\n",
    "            expected_values[i][j]=monte_carlo(i,j,L,alpha,N)\n",
    "    return expected_values"
   ]
  },
  {
   "cell_type": "markdown",
   "metadata": {},
   "source": [
    "### Visualisation de $f$"
   ]
  },
  {
   "cell_type": "code",
   "execution_count": 5,
   "metadata": {},
   "outputs": [],
   "source": [
    "def plot(L,alpha,N):\n",
    "    plt.imshow(approximate(L, alpha, N).T, origin=\"lower\",extent=[0, 1, 0, 1], cmap=\"jet\")\n",
    "    plt.show()"
   ]
  },
  {
   "cell_type": "code",
   "execution_count": 6,
   "metadata": {},
   "outputs": [
    {
     "data": {
      "image/png": "[encoded data removed]",
      "text/plain": [
       "<Figure size 432x288 with 1 Axes>"
      ]
     },
     "metadata": {
      "needs_background": "light"
     },
     "output_type": "display_data"
    }
   ],
   "source": [
    "L = 40\n",
    "N = 100\n",
    "gamma = 100\n",
    "alpha = gamma/L**2\n",
    "plot(L,alpha,N)"
   ]
  }
 ],
 "metadata": {
  "kernelspec": {
   "display_name": "Python 3",
   "language": "python",
   "name": "python3"
  },
  "language_info": {
   "codemirror_mode": {
    "name": "ipython",
    "version": 3
   },
   "file_extension": ".py",
   "mimetype": "text/x-python",
   "name": "python",
   "nbconvert_exporter": "python",
   "pygments_lexer": "ipython3",
   "version": "3.7.4"
  }
 },
 "nbformat": 4,
 "nbformat_minor": 2
}
