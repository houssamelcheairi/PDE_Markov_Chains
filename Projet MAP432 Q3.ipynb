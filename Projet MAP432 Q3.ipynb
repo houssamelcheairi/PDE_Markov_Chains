{
 "cells": [
  {
   "cell_type": "markdown",
   "metadata": {},
   "source": [
    "# Partie 3"
   ]
  },
  {
   "cell_type": "markdown",
   "metadata": {},
   "source": [
    "### Définition de $\\phi$"
   ]
  },
  {
   "cell_type": "code",
   "execution_count": 9,
   "metadata": {},
   "outputs": [],
   "source": [
    "import random\n",
    "import numpy as np\n",
    "import matplotlib.pyplot as plt\n",
    "\n",
    "def phi(x, y, L):\n",
    "    if x==0 or x==L:\n",
    "        return 1\n",
    "    if y==0 or y==L:\n",
    "        return 0\n"
   ]
  },
  {
   "cell_type": "markdown",
   "metadata": {},
   "source": [
    "### Simulation de la chaîne de Markov"
   ]
  },
  {
   "cell_type": "code",
   "execution_count": 83,
   "metadata": {},
   "outputs": [],
   "source": [
    "def markov_edge(x,y,alpha,beta,L):\n",
    "    gamma = (1-alpha-beta)\n",
    "    fixe= [] #rassemble les branches qui ont déjà atteint le bord\n",
    "    var = [[x,y]] #rassemble les branches qui évoluent toujours\n",
    "    inter =[]\n",
    "    while len(var)>0:\n",
    "        inter=[]\n",
    "        for branche in var:\n",
    "            x = branche[0]\n",
    "            y = branche[1]\n",
    "            if x==0 or x==L or y==0 or y==L:\n",
    "                fixe.append(branche)\n",
    "            else:\n",
    "                alea = random.random()\n",
    "                if 0<=alea<=gamma:#evolution sur le réseaux\n",
    "                    #print(\"normal\")\n",
    "                    if alea<=gamma/4:\n",
    "                        branche = [x+1,y]\n",
    "                    if gamma/4<=alea<=gamma/2:\n",
    "                        branche = [x-1,y]\n",
    "                    if gamma/2<=alea<=3*gamma/4:\n",
    "                        branche = [x,y+1]\n",
    "                    if 3*gamma/4<=alea<=gamma:\n",
    "                        branche = [x,y-1]\n",
    "                    \n",
    "                    inter.append(branche)\n",
    "                #if gamma<=alea<=gamma+alpha:#mort de la branche\n",
    "                #    #print(\"mort\")\n",
    "                if gamma+alpha<=alea<=gamma+alpha+beta:#duplication\n",
    "                    #print(\"duplication\")\n",
    "                    inter.append(branche)\n",
    "                    inter.append(branche)\n",
    "            var=[]\n",
    "            for branche in inter:\n",
    "                var.append(branche)\n",
    "    prod = 1\n",
    "    if len(fixe)==0:\n",
    "        return 0\n",
    "    else:\n",
    "        for branche in fixe:\n",
    "            prod = prod*phi(branche[0],branche[1],L)\n",
    "        return prod"
   ]
  },
  {
   "cell_type": "markdown",
   "metadata": {},
   "source": [
    "### Calcul de $u(x,y)$"
   ]
  },
  {
   "cell_type": "code",
   "execution_count": 89,
   "metadata": {},
   "outputs": [],
   "source": [
    "def monte_carlo(x,y,alpha,beta,L,N):\n",
    "    s= 0\n",
    "    for n in range(N):\n",
    "        s = s+ markov_edge(x,y,alpha,beta,L)\n",
    "    return s/N"
   ]
  },
  {
   "cell_type": "markdown",
   "metadata": {},
   "source": [
    "### Approximation de $f$"
   ]
  },
  {
   "cell_type": "code",
   "execution_count": 90,
   "metadata": {},
   "outputs": [],
   "source": [
    "def approximate(alpha,beta,L,N):\n",
    "    expected_values =np.zeros((L,L))\n",
    "    for i in range(L):\n",
    "        for j in range(L):\n",
    "            expected_values[i][j]=monte_carlo(i,j,alpha,beta,L,N)\n",
    "    return expected_values"
   ]
  },
  {
   "cell_type": "markdown",
   "metadata": {},
   "source": [
    "### Visualisation de $f$"
   ]
  },
  {
   "cell_type": "code",
   "execution_count": 93,
   "metadata": {},
   "outputs": [],
   "source": [
    "def plot(alpha,beta,L,N):\n",
    "    plt.imshow(approximate(alpha,beta,L, N).T, origin=\"lower\",extent=[0, 1, 0, 1], cmap=\"jet\")\n",
    "    plt.show()"
   ]
  },
  {
   "cell_type": "code",
   "execution_count": 98,
   "metadata": {},
   "outputs": [
    {
     "data": {
      "image/png": "[encoded data removed]",
      "text/plain": [
       "<Figure size 432x288 with 1 Axes>"
      ]
     },
     "metadata": {
      "needs_background": "light"
     },
     "output_type": "display_data"
    }
   ],
   "source": [
    "N =100\n",
    "L = 40\n",
    "alpha = 1/(L*L)\n",
    "beta = alpha\n",
    "plot(alpha,beta,L,N)"
   ]
  }
 ],
 "metadata": {
  "kernelspec": {
   "display_name": "Python 3",
   "language": "python",
   "name": "python3"
  },
  "language_info": {
   "codemirror_mode": {
    "name": "ipython",
    "version": 3
   },
   "file_extension": ".py",
   "mimetype": "text/x-python",
   "name": "python",
   "nbconvert_exporter": "python",
   "pygments_lexer": "ipython3",
   "version": "3.7.4"
  }
 },
 "nbformat": 4,
 "nbformat_minor": 2
}
